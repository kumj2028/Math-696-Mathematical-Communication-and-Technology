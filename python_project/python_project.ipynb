{
 "cells": [
  {
   "cell_type": "markdown",
   "id": "fb9b268b",
   "metadata": {},
   "source": [
    "## Problem 1\n",
    "### The graph of a cubic function passes through the points $(-3, 6.8),(0.5,14.5),(2,-21.2)$, and $(5,10)$."
   ]
  },
  {
   "cell_type": "markdown",
   "id": "3326ccb1",
   "metadata": {},
   "source": [
    "##### (a) Write the cubic expression as $f=ax^3+bx^2+cx+d$ and solve a system of equations to find the coefficients (do NOT use curve-fitting!)"
   ]
  },
  {
   "cell_type": "code",
   "execution_count": 4,
   "id": "e91ff00c",
   "metadata": {},
   "outputs": [
    {
     "data": {
      "text/latex": [
       "$\\displaystyle \\left[\\begin{matrix}-27 & 9 & -3 & 1 & 6.8\\\\0.125 & 0.25 & 0.5 & 1 & 14.5\\\\8 & 4 & 2 & 1 & -21.2\\\\125 & 25 & 5 & 1 & 10\\end{matrix}\\right]$"
      ],
      "text/plain": [
       "Matrix([\n",
       "[  -27,    9,  -3, 1,   6.8],\n",
       "[0.125, 0.25, 0.5, 1,  14.5],\n",
       "[    8,    4,   2, 1, -21.2],\n",
       "[  125,   25,   5, 1,    10]])"
      ]
     },
     "metadata": {},
     "output_type": "display_data"
    }
   ],
   "source": [
    "from sympy import * #this way I don't even need to type sp (cuz I'm lazy)\n",
    "\n",
    "# list of points (x, y)\n",
    "points = [(-3, 6.8), (0.5, 14.5), (2, -21.2), (5, 10)]\n",
    "\n",
    "# matrix representation of the system of equations\n",
    "M = Matrix([[point[0]**3, point[0]**2, point[0], 1, point[1]] for point in points])\n",
    "display(M)"
   ]
  },
  {
   "cell_type": "markdown",
   "id": "c5b62ee8",
   "metadata": {},
   "source": [
    "To find the coefficients of the cubic equation, we use the included reduce row echelon form (rref) function of the matrix that's included by the sympy library"
   ]
  },
  {
   "cell_type": "code",
   "execution_count": 12,
   "id": "4eb66880",
   "metadata": {},
   "outputs": [
    {
     "data": {
      "text/latex": [
       "$\\displaystyle \\left[\\begin{matrix}1 & 0 & 0 & 0 & 1.6\\\\0 & 1 & 0 & 0 & -4.4\\\\0 & 0 & 1 & 0 & -21.2\\\\0 & 0 & 0 & 1 & 26.0\\end{matrix}\\right]$"
      ],
      "text/plain": [
       "Matrix([\n",
       "[1, 0, 0, 0,   1.6],\n",
       "[0, 1, 0, 0,  -4.4],\n",
       "[0, 0, 1, 0, -21.2],\n",
       "[0, 0, 0, 1,  26.0]])"
      ]
     },
     "metadata": {},
     "output_type": "display_data"
    }
   ],
   "source": [
    "M_rref = M.rref()\n",
    "display(M_rref[0])"
   ]
  },
  {
   "cell_type": "markdown",
   "id": "6c2a8fa4",
   "metadata": {},
   "source": [
    "Thus we have our coefficients, and our function is"
   ]
  },
  {
   "cell_type": "code",
   "execution_count": 9,
   "id": "fd147ca9",
   "metadata": {},
   "outputs": [
    {
     "data": {
      "text/latex": [
       "$\\displaystyle 1.6 x^{3} - 4.4 x^{2} - 21.2 x + 26$"
      ],
      "text/plain": [
       "1.6*x**3 - 4.4*x**2 - 21.2*x + 26"
      ]
     },
     "metadata": {},
     "output_type": "display_data"
    }
   ],
   "source": [
    "x = symbols('x')\n",
    "f = 1.6*x**3 -4.4*x**2 - 21.2*x + 26\n",
    "display(f)"
   ]
  },
  {
   "cell_type": "markdown",
   "id": "25f534f8",
   "metadata": {},
   "source": [
    "##### (b) Use the symbolic plot command to plot the function on the domain $x \\in [-4,6]$"
   ]
  },
  {
   "cell_type": "code",
   "execution_count": 11,
   "id": "76d9514b",
   "metadata": {},
   "outputs": [
    {
     "data": {
      "image/png": "[encoded data removed]",
      "text/plain": [
       "<Figure size 640x480 with 1 Axes>"
      ]
     },
     "metadata": {},
     "output_type": "display_data"
    },
    {
     "data": {
      "text/plain": [
       "<sympy.plotting.backends.matplotlibbackend.matplotlib.MatplotlibBackend at 0x211d362b170>"
      ]
     },
     "execution_count": 11,
     "metadata": {},
     "output_type": "execute_result"
    }
   ],
   "source": [
    "plot(f, (x, -4, 6))"
   ]
  },
  {
   "cell_type": "markdown",
   "id": "5227fac1",
   "metadata": {},
   "source": [
    "##### (c) Use Python to find the local extrema and the inflection point. Express your answers in point form. Then show that the $x$-coordinate of the inflection point is the average of the $x$-coordinates of the local extrema."
   ]
  },
  {
   "cell_type": "markdown",
   "id": "5d4ecdd6",
   "metadata": {},
   "source": [
    "We first calculate the first derivative and set it to 0 to find the critical points"
   ]
  },
  {
   "cell_type": "code",
   "execution_count": 16,
   "id": "5973a2dd",
   "metadata": {},
   "outputs": [
    {
     "data": {
      "text/latex": [
       "$\\displaystyle 4.8 x^{2} - 8.8 x - 21.2$"
      ],
      "text/plain": [
       "4.8*x**2 - 8.8*x - 21.2"
      ]
     },
     "metadata": {},
     "output_type": "display_data"
    },
    {
     "data": {
      "text/plain": [
       "[-1.37613608203293, 3.20946941536627]"
      ]
     },
     "metadata": {},
     "output_type": "display_data"
    }
   ],
   "source": [
    "fp = Derivative(f,x, evaluate=True) #first derivative\n",
    "display(fp)\n",
    "crit_points = solve(fp, x)\n",
    "display(crit_points)"
   ]
  },
  {
   "cell_type": "markdown",
   "id": "dbc10c3d",
   "metadata": {},
   "source": [
    "Then we calculate the second derivative and evaluate it at the critical points to determine if they are local minima or maxima, as well as set it to 0 to find the inflection point(s)"
   ]
  },
  {
   "cell_type": "code",
   "execution_count": null,
   "id": "3519297d",
   "metadata": {},
   "outputs": [],
   "source": []
  }
 ],
 "metadata": {
  "kernelspec": {
   "display_name": "base",
   "language": "python",
   "name": "python3"
  },
  "language_info": {
   "codemirror_mode": {
    "name": "ipython",
    "version": 3
   },
   "file_extension": ".py",
   "mimetype": "text/x-python",
   "name": "python",
   "nbconvert_exporter": "python",
   "pygments_lexer": "ipython3",
   "version": "3.12.3"
  }
 },
 "nbformat": 4,
 "nbformat_minor": 5
}
